{
  "nbformat": 4,
  "nbformat_minor": 0,
  "metadata": {
    "colab": {
      "name": "MC_pesudo.ipynb",
      "provenance": [],
      "authorship_tag": "ABX9TyM3XO65qgNCdJUcGYAT3N23",
      "include_colab_link": true
    },
    "kernelspec": {
      "name": "python3",
      "display_name": "Python 3"
    },
    "language_info": {
      "name": "python"
    }
  },
  "cells": [
    {
      "cell_type": "markdown",
      "metadata": {
        "id": "view-in-github",
        "colab_type": "text"
      },
      "source": [
        "<a href=\"https://colab.research.google.com/github/tmsk0711/RL/blob/main/MC_pesudo.ipynb\" target=\"_parent\"><img src=\"https://colab.research.google.com/assets/colab-badge.svg\" alt=\"Open In Colab\"/></a>"
      ]
    },
    {
      "cell_type": "code",
      "execution_count": 9,
      "metadata": {
        "colab": {
          "base_uri": "https://localhost:8080/"
        },
        "id": "vu-O5uvT27oa",
        "outputId": "b9e8babc-894d-4914-99f2-35cff9cc2d38"
      },
      "outputs": [
        {
          "output_type": "stream",
          "name": "stdout",
          "text": [
            "[-65.4594158998671, -64.67799073441931, -61.59160764686445, -57.30765220924775]\n",
            "[-60.628361920859895, -59.12695063085247, -54.925134927324535, -53.27322204554392]\n",
            "[-55.33569464704328, -51.60952814981325, -43.81650575244563, -35.150721217348874]\n",
            "[-53.43891008856382, -48.00322633431942, -30.744357121839386, 0.0]\n"
          ]
        }
      ],
      "source": [
        "import random\n",
        "import numpy as np\n",
        "\n",
        "class GridWorld():\n",
        "    def __init__(self): # 초기좌표 0,0\n",
        "        self.x=0\n",
        "        self.y=0\n",
        "    \n",
        "    def step(self, a):\n",
        "        # 0번 액션: 왼쪽, 1번 액션: 위, 2번 액션: 오른쪽, 3번 액션: 아래쪽\n",
        "        if a==0:\n",
        "            self.move_left()\n",
        "        elif a==1:\n",
        "            self.move_up()\n",
        "        elif a==2:\n",
        "            self.move_right()\n",
        "        elif a==3:\n",
        "            self.move_down()\n",
        "\n",
        "        reward = -1 # 보상은 항상 -1로 고정\n",
        "        done = self.is_done()\n",
        "        return (self.x, self.y), reward, done # 상태좌표 , 보상, 에피소드끝남\n",
        "\n",
        "    def move_right(self):\n",
        "        self.y += 1  # 우측 한칸\n",
        "        if self.y > 3: # 우측으로 갈곳이 없으면\n",
        "            self.y = 3 # 제자리 그대로 에피소드,보상 다받음\n",
        "      \n",
        "    def move_left(self):\n",
        "        self.y -= 1\n",
        "        if self.y < 0:\n",
        "            self.y = 0\n",
        "      \n",
        "    def move_up(self):\n",
        "        self.x -= 1\n",
        "        if self.x < 0:\n",
        "            self.x = 0\n",
        "  \n",
        "    def move_down(self):\n",
        "        self.x += 1\n",
        "        if self.x > 3:\n",
        "            self.x = 3\n",
        "\n",
        "    def is_done(self):\n",
        "        if self.x == 3 and self.y == 3:\n",
        "            return True\n",
        "        else :\n",
        "            return False\n",
        "\n",
        "    def get_state(self):\n",
        "        return (self.x, self.y)\n",
        "      \n",
        "    def reset(self):\n",
        "        self.x = 0\n",
        "        self.y = 0\n",
        "        return (self.x, self.y)\n",
        "\n",
        "class Agent():\n",
        "    def __init__(self):\n",
        "        pass        \n",
        "\n",
        "    def select_action(self): # 정책\n",
        "        coin = random.random() # 랜덤값 설정\n",
        "        # print(coin)\n",
        "        if coin < 0.25:\n",
        "            action = 0\n",
        "        elif coin < 0.5:\n",
        "            action = 1\n",
        "        elif coin < 0.75:\n",
        "            action = 2\n",
        "        else:\n",
        "            action = 3\n",
        "        return action\n",
        "\n",
        "\n",
        "def main():\n",
        "    env = GridWorld() # 환경\n",
        "    agent = Agent() # 정책\n",
        "    data = [[0,0,0,0],[0,0,0,0],[0,0,0,0],[0,0,0,0]]\n",
        "    gamma = 1.0 # 감쇠인자\n",
        "    reward = -1 #  보상\n",
        "    alpha = 0.001 # 가중평균치\n",
        "\n",
        "    for k in range(50000):\n",
        "        done = False\n",
        "        history = []\n",
        "\n",
        "        while not done:\n",
        "            action = agent.select_action() # 액션 결정\n",
        "            (x,y), reward, done = env.step(action) # 상태, 보상, 에피소드 끝남여부\n",
        "            history.append((x,y,reward)) # 히스토리 추가 \n",
        "        env.reset() # 환경 초기화\n",
        "\n",
        "        cum_reward = 0 # 누적 보상?\n",
        "        for transition in history[::-1]: # 역순으로 방문 값 계산\n",
        "          # print(cum_reward) \n",
        "            # 0\n",
        "            # -1.0\n",
        "            # -2.0\n",
        "            # -3.0\n",
        "            # -4.0\n",
        "            # -5.0\n",
        "            # -6.0\n",
        "            # -7.0\n",
        "            # -8.0\n",
        "            # -9.0\n",
        "            # -10.0\n",
        "            # -11.0\n",
        "            # -12.0\n",
        "            # 0...\n",
        "         \n",
        "          x, y, reward = transition # 방문 값 어서오고\n",
        "          # 방문값 업데이트\n",
        "          data[x][y] = data[x][y] + alpha*(cum_reward-data[x][y]) # 상태 = 상태 + 알파(누적보상-상태)\n",
        "          cum_reward = reward + gamma*cum_reward  # 누적 보상 = 누적보상 + 감쇠인자*보상\n",
        "        # data[0][0] = cum_reward\n",
        "                 \n",
        "    for row in data:\n",
        "        print(row)\n",
        "\n",
        "# 인터프리터 되었을때만 실행(임포트 되지 않고 직접 실행했을때만)\n",
        "if __name__ == '__main__':\n",
        "    main()"
      ]
    },
    {
      "cell_type": "code",
      "source": [
        "[-23.0, -53.14407437591057, -51.1725363626883, -46.14475330818423]\n",
        "[-52.39987634738897, -50.63954470573341, -46.06993953917458, -42.90960490034228]\n",
        "[-48.40004691008805, -44.76593647870635, -35.82757840834927, -29.387660131493917]\n",
        "[-42.5184879028773, -39.24482839941557, -26.171876183839778, 0.0]"
      ],
      "metadata": {
        "id": "Uo6FAYp139cC"
      },
      "execution_count": null,
      "outputs": []
    }
  ]
}